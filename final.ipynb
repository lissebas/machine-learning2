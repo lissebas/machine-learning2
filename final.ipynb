{
 "cells": [
  {
   "cell_type": "markdown",
   "id": "4f1963dc-54e5-4d99-9f9a-fb2730edc9cb",
   "metadata": {
    "jp-MarkdownHeadingCollapsed": true
   },
   "source": [
    "# Librerías a implementar"
   ]
  },
  {
   "cell_type": "code",
   "execution_count": null,
   "id": "a6b102bd-d5ea-4a35-b745-47e8f9ef67c3",
   "metadata": {},
   "outputs": [],
   "source": [
    "# Manejo de datos\n",
    "import numpy as np\n",
    "import pandas as pd\n",
    "\n",
    "# Visualización\n",
    "import seaborn as sns\n",
    "import matplotlib.pyplot as plt\n",
    "\n",
    "# Machine Learning\n",
    "from sklearn.impute import SimpleImputer\n",
    "from scipy.stats import shapiro"
   ]
  },
  {
   "cell_type": "markdown",
   "id": "40d5bcd2-faf7-43cf-9307-116b5120cf82",
   "metadata": {},
   "source": [
    "# Introducción y Cargue de datos"
   ]
  },
  {
   "cell_type": "code",
   "execution_count": null,
   "id": "5cde494f-21e0-4acf-bab7-d84e7fab6f3b",
   "metadata": {},
   "outputs": [],
   "source": [
    "data = pd.read_csv('Data/train.csv')\n",
    "data.head(4)"
   ]
  },
  {
   "cell_type": "markdown",
   "id": "a022b653-126d-4219-9782-03cf6162e1c7",
   "metadata": {},
   "source": [
    "# Análisis Exploratorio de Datos"
   ]
  },
  {
   "cell_type": "markdown",
   "id": "e2e7f583-88fd-4f62-b371-e69ee939709d",
   "metadata": {},
   "source": [
    "## Análisis Univariado"
   ]
  },
  {
   "cell_type": "markdown",
   "id": "cc6836fc-f084-4b8a-aacb-0b7892390d0d",
   "metadata": {},
   "source": [
    "### Análisis Categórico"
   ]
  },
  {
   "cell_type": "code",
   "execution_count": null,
   "id": "4993555c-5b45-4163-84f3-09c12cf2c0d3",
   "metadata": {},
   "outputs": [],
   "source": []
  },
  {
   "cell_type": "markdown",
   "id": "ac4cbbb9-d7dd-4a62-8c33-1f28dc58eb6d",
   "metadata": {},
   "source": [
    "#### Selección de variables categóricas"
   ]
  },
  {
   "cell_type": "code",
   "execution_count": null,
   "id": "b61fae71-57db-4072-9eb1-73ecac4a98c4",
   "metadata": {},
   "outputs": [],
   "source": []
  },
  {
   "cell_type": "markdown",
   "id": "481c1324-9f40-4e12-9782-b79a3c478dda",
   "metadata": {},
   "source": [
    "### Análisis Numérico"
   ]
  },
  {
   "cell_type": "code",
   "execution_count": null,
   "id": "f92a85e3-d3fb-4545-ab4d-c6b252e24c46",
   "metadata": {},
   "outputs": [],
   "source": []
  },
  {
   "cell_type": "markdown",
   "id": "550614be-68b2-44e9-90a5-03a0e5e65213",
   "metadata": {},
   "source": [
    "#### Selección de variables numéricas"
   ]
  },
  {
   "cell_type": "code",
   "execution_count": null,
   "id": "647adde4-585d-440e-a7fa-b61f11124ed7",
   "metadata": {},
   "outputs": [],
   "source": []
  },
  {
   "cell_type": "markdown",
   "id": "ff0ceada-ffc7-4847-af8f-b6c31295e5d1",
   "metadata": {},
   "source": [
    "## Análisis Bivariado"
   ]
  },
  {
   "cell_type": "code",
   "execution_count": null,
   "id": "5b07c614-34ee-4e5f-894a-8633f9561ab4",
   "metadata": {},
   "outputs": [],
   "source": []
  },
  {
   "cell_type": "markdown",
   "id": "c859ca85-d950-43ae-8a72-edd42b2312d9",
   "metadata": {},
   "source": [
    "### Numérico - Numérico"
   ]
  },
  {
   "cell_type": "code",
   "execution_count": null,
   "id": "df8cf874-2d15-4833-9d90-978dc147960b",
   "metadata": {},
   "outputs": [],
   "source": []
  },
  {
   "cell_type": "markdown",
   "id": "81250d07-0a01-4bcb-9b62-30f5043ad359",
   "metadata": {},
   "source": [
    "### Categórico - Categórico"
   ]
  },
  {
   "cell_type": "code",
   "execution_count": null,
   "id": "e81859bc-8d55-4b7f-a421-db0c029da027",
   "metadata": {},
   "outputs": [],
   "source": []
  },
  {
   "cell_type": "markdown",
   "id": "7f9a1bea-56da-488d-89e6-ee74ca8f509a",
   "metadata": {},
   "source": [
    "### Numérico - Categórico"
   ]
  },
  {
   "cell_type": "code",
   "execution_count": null,
   "id": "3f41c767-c8e3-45f1-937c-c61797a6dfe2",
   "metadata": {},
   "outputs": [],
   "source": []
  },
  {
   "cell_type": "markdown",
   "id": "fdbbb02c-92f3-4ef9-b435-8c3bb0014347",
   "metadata": {},
   "source": [
    "# Modelado"
   ]
  },
  {
   "cell_type": "markdown",
   "id": "36df7e33-f327-4b8d-badc-6c85046317bc",
   "metadata": {},
   "source": [
    "## Selección y justificación de los modelos"
   ]
  },
  {
   "cell_type": "markdown",
   "id": "7ad49478-f841-4369-a40a-c92cf8db3579",
   "metadata": {},
   "source": [
    "## Selección de métricas"
   ]
  },
  {
   "cell_type": "markdown",
   "id": "4ef713eb-02f5-4793-950a-3e9afa1ec969",
   "metadata": {},
   "source": [
    "## Implementación del <modelo 1>"
   ]
  },
  {
   "cell_type": "code",
   "execution_count": null,
   "id": "a82e8921-f1c8-4316-a6d5-bf97dac253c7",
   "metadata": {},
   "outputs": [],
   "source": []
  },
  {
   "cell_type": "markdown",
   "id": "bc32ca86-4aab-4ff6-8562-f8e132801271",
   "metadata": {},
   "source": [
    "## Implementación del <modelo 2>"
   ]
  },
  {
   "cell_type": "code",
   "execution_count": null,
   "id": "a3334a47-7fb9-4767-8242-3842b3a565b0",
   "metadata": {},
   "outputs": [],
   "source": []
  },
  {
   "cell_type": "markdown",
   "id": "cfedfd9b-4c3b-4843-bca5-befdacc3c1ba",
   "metadata": {},
   "source": [
    "## Comparación de modelos"
   ]
  },
  {
   "cell_type": "code",
   "execution_count": null,
   "id": "231e01c0-58df-4fd5-88c7-0156be203f4e",
   "metadata": {},
   "outputs": [],
   "source": []
  },
  {
   "cell_type": "markdown",
   "id": "194573fd-c05b-480f-b6c2-c6ae327468aa",
   "metadata": {},
   "source": [
    "# Conclusiones"
   ]
  },
  {
   "cell_type": "code",
   "execution_count": null,
   "id": "91e15b3e-99af-4209-b945-fdf218627c19",
   "metadata": {},
   "outputs": [],
   "source": []
  }
 ],
 "metadata": {
  "kernelspec": {
   "display_name": "transmilenio",
   "language": "python",
   "name": "transmilenio"
  },
  "language_info": {
   "codemirror_mode": {
    "name": "ipython",
    "version": 3
   },
   "file_extension": ".py",
   "mimetype": "text/x-python",
   "name": "python",
   "nbconvert_exporter": "python",
   "pygments_lexer": "ipython3",
   "version": "3.11.7"
  }
 },
 "nbformat": 4,
 "nbformat_minor": 5
}
